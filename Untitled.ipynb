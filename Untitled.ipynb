{
 "cells": [
  {
   "cell_type": "code",
   "execution_count": 22,
   "id": "bd49e628-0e5d-4af8-93cf-c01ef20f58a2",
   "metadata": {},
   "outputs": [],
   "source": [
    "import xarray as xr"
   ]
  },
  {
   "cell_type": "code",
   "execution_count": 23,
   "id": "440fa7d6-933c-4c4a-9e78-03d1c7a1987a",
   "metadata": {},
   "outputs": [],
   "source": [
    "from compute_ivt import compute_ivt\n",
    "from config import ar_params"
   ]
  },
  {
   "cell_type": "code",
   "execution_count": 24,
   "id": "53094578-5442-43cc-8306-a8df89865ce6",
   "metadata": {},
   "outputs": [],
   "source": [
    "ds = xr.open_dataset('/atlas_scratch/jdpaul3/era5/inputs/era5_ivt_params.nc')"
   ]
  },
  {
   "cell_type": "code",
   "execution_count": 25,
   "id": "9322dcf5-1e42-4017-849f-f7d17a0dc365",
   "metadata": {},
   "outputs": [],
   "source": [
    "ds = ds.sel(time=slice('2020-01-01', '2021-06-01'))"
   ]
  },
  {
   "cell_type": "code",
   "execution_count": 26,
   "id": "6c8d51d1-2017-44af-a563-4605b367e075",
   "metadata": {
    "tags": []
   },
   "outputs": [],
   "source": [
    "ds.to_netcdf('/atlas_scratch/jdpaul3/era5/inputs/era5_input_test.nc')"
   ]
  },
  {
   "cell_type": "code",
   "execution_count": null,
   "id": "2bc1bfe3-1c1f-443e-9459-dccd3b9118c6",
   "metadata": {},
   "outputs": [],
   "source": []
  },
  {
   "cell_type": "code",
   "execution_count": 27,
   "id": "782e311e-c3f3-4747-b601-4cf72c309186",
   "metadata": {},
   "outputs": [
    {
     "data": {
      "text/plain": [
       "{'window': 75,\n",
       " 'ivt_percentile': 85,\n",
       " 'ivt_floor': 100,\n",
       " 'direction_deviation_threshold': 45,\n",
       " 'mean_meridional': 50,\n",
       " 'orientation_deviation_threshold': 45,\n",
       " 'min_axis_length': 1000}"
      ]
     },
     "execution_count": 27,
     "metadata": {},
     "output_type": "execute_result"
    }
   ],
   "source": [
    "ar_params"
   ]
  },
  {
   "cell_type": "code",
   "execution_count": 28,
   "id": "714ebc07-2a1e-408c-9793-a982a76acf8c",
   "metadata": {},
   "outputs": [],
   "source": [
    "out = '/atlas_scratch/jdpaul3/era5/inputs/ard_test.nc'"
   ]
  },
  {
   "cell_type": "code",
   "execution_count": null,
   "id": "1eacd675-4800-4952-8457-1dca5fbe4b5c",
   "metadata": {},
   "outputs": [],
   "source": [
    "compute_ivt('/atlas_scratch/jdpaul3/era5/inputs/era5_input_test.nc', ar_params, out)"
   ]
  },
  {
   "cell_type": "code",
   "execution_count": null,
   "id": "e23aa26b-7b88-41a1-8610-6c452e1365bc",
   "metadata": {},
   "outputs": [],
   "source": []
  },
  {
   "cell_type": "code",
   "execution_count": null,
   "id": "5d28166d-61ab-446f-b005-ac483e05d74a",
   "metadata": {},
   "outputs": [],
   "source": []
  },
  {
   "cell_type": "code",
   "execution_count": null,
   "id": "0edb176d-e845-4496-8bdb-193b7812c7ec",
   "metadata": {},
   "outputs": [],
   "source": []
  }
 ],
 "metadata": {
  "kernelspec": {
   "display_name": "Python 3 (ipykernel)",
   "language": "python",
   "name": "python3"
  },
  "language_info": {
   "codemirror_mode": {
    "name": "ipython",
    "version": 3
   },
   "file_extension": ".py",
   "mimetype": "text/x-python",
   "name": "python",
   "nbconvert_exporter": "python",
   "pygments_lexer": "ipython3",
   "version": "3.9.15"
  }
 },
 "nbformat": 4,
 "nbformat_minor": 5
}
