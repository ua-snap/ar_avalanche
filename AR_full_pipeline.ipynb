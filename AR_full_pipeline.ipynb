{
 "cells": [
  {
   "cell_type": "markdown",
   "metadata": {},
   "source": [
    "# Atmospheric Rivers: run detection pipeline and QC outputs\n",
    "\n",
    "This notebook will import the master processing function from the `ar_detection.py` module and run the entire processing workflow with minimal input. Before executing this notebook be sure you've set your `AR_DATA_DIR` environment variable, and have executed both the `download.py` and `compute_ivt.py` scripts."
   ]
  },
  {
   "cell_type": "code",
   "execution_count": 1,
   "metadata": {},
   "outputs": [],
   "source": [
    "from ar_detection import detect_all_ars\n",
    "from config import ard_fp, shp_fp, csv_fp, ak_shp, landfall_6hr_fp, landfall_events_fp"
   ]
  },
  {
   "cell_type": "code",
   "execution_count": 2,
   "metadata": {},
   "outputs": [
    {
     "name": "stderr",
     "output_type": "stream",
     "text": [
      "Getting length/width ratio for each AR target:: 100%|██████████| 43832/43832 [05:26<00:00, 134.36it/s]\n",
      "Getting axis length (km) for each AR target:: 100%|██████████| 43832/43832 [08:38<00:00, 84.55it/s] \n",
      "Getting overall orientation (azimuth) for each AR target:: 100%|██████████| 43832/43832 [09:15<00:00, 78.88it/s] \n",
      "Getting mean poleward strength for each AR target:: 100%|██████████| 43832/43832 [00:49<00:00, 876.83it/s] \n",
      "Getting directional coherence for each AR target:: 100%|██████████| 43832/43832 [02:31<00:00, 288.58it/s]\n",
      "Getting total IVT strength for each AR target:: 100%|██████████| 43832/43832 [00:19<00:00, 2219.58it/s]\n",
      "Getting relative IVT strength for each AR target:: 100%|██████████| 43832/43832 [00:19<00:00, 2204.13it/s]\n",
      "100%|██████████| 43832/43832 [00:02<00:00, 17464.56it/s]\n",
      "100%|██████████| 43832/43832 [00:00<00:00, 84411.20it/s]\n",
      "100%|██████████| 17390/17390 [06:55<00:00, 41.86it/s] \n"
     ]
    }
   ],
   "source": [
    "detect_all_ars(ard_fp, 5, shp_fp, csv_fp, ak_shp, landfall_6hr_fp, landfall_events_fp)"
   ]
  },
  {
   "cell_type": "code",
   "execution_count": 56,
   "metadata": {},
   "outputs": [],
   "source": [
    "import geopandas as gpd\n",
    "import pandas as pd\n",
    "import matplotlib.pyplot as plt\n",
    "import random\n",
    "import numpy as np\n",
    "import shapely"
   ]
  },
  {
   "cell_type": "code",
   "execution_count": 5,
   "metadata": {},
   "outputs": [],
   "source": [
    "#import shps to gdfs\n",
    "raw = gpd.read_file(landfall_6hr_fp)\n",
    "events = gpd.read_file(landfall_events_fp)\n",
    "\n",
    "#import ak shp\n",
    "ak = gpd.read_file(ak_shp)\n",
    "# reproject AK coastline to match AR CRS, and dissolve into one multipolygon\n",
    "ak_ = ak.to_crs(raw.crs)\n",
    "ak_d = ak_.dissolve()"
   ]
  },
  {
   "cell_type": "code",
   "execution_count": 6,
   "metadata": {},
   "outputs": [
    {
     "data": {
      "text/plain": [
       "8293"
      ]
     },
     "execution_count": 6,
     "metadata": {},
     "output_type": "execute_result"
    }
   ],
   "source": [
    "#count number of landfalling ARs at individual 6hr timesteps\n",
    "len(raw)"
   ]
  },
  {
   "cell_type": "code",
   "execution_count": 7,
   "metadata": {},
   "outputs": [
    {
     "data": {
      "text/html": [
       "<div>\n",
       "<style scoped>\n",
       "    .dataframe tbody tr th:only-of-type {\n",
       "        vertical-align: middle;\n",
       "    }\n",
       "\n",
       "    .dataframe tbody tr th {\n",
       "        vertical-align: top;\n",
       "    }\n",
       "\n",
       "    .dataframe thead th {\n",
       "        text-align: right;\n",
       "    }\n",
       "</style>\n",
       "<table border=\"1\" class=\"dataframe\">\n",
       "  <thead>\n",
       "    <tr style=\"text-align: right;\">\n",
       "      <th></th>\n",
       "      <th>index</th>\n",
       "      <th>time</th>\n",
       "      <th>label</th>\n",
       "      <th>ratio</th>\n",
       "      <th>length</th>\n",
       "      <th>orient</th>\n",
       "      <th>poleward</th>\n",
       "      <th>dir_coher</th>\n",
       "      <th>mean_dir</th>\n",
       "      <th>tot_str</th>\n",
       "      <th>rel_str</th>\n",
       "      <th>crit1</th>\n",
       "      <th>crit2</th>\n",
       "      <th>crit3</th>\n",
       "      <th>crit4</th>\n",
       "      <th>crit5</th>\n",
       "      <th>crit_cnt</th>\n",
       "      <th>geometry</th>\n",
       "    </tr>\n",
       "  </thead>\n",
       "  <tbody>\n",
       "    <tr>\n",
       "      <th>0</th>\n",
       "      <td>3</td>\n",
       "      <td>1992-01-01 06:00:00</td>\n",
       "      <td>2.0</td>\n",
       "      <td>3.5</td>\n",
       "      <td>4854</td>\n",
       "      <td>37</td>\n",
       "      <td>221</td>\n",
       "      <td>87</td>\n",
       "      <td>358</td>\n",
       "      <td>2230418</td>\n",
       "      <td>488</td>\n",
       "      <td>1</td>\n",
       "      <td>1</td>\n",
       "      <td>1</td>\n",
       "      <td>1</td>\n",
       "      <td>1</td>\n",
       "      <td>5</td>\n",
       "      <td>POLYGON ((-149.62500 61.12500, -149.37500 61.1...</td>\n",
       "    </tr>\n",
       "    <tr>\n",
       "      <th>1</th>\n",
       "      <td>4</td>\n",
       "      <td>1992-01-01 12:00:00</td>\n",
       "      <td>4.0</td>\n",
       "      <td>4.2</td>\n",
       "      <td>3773</td>\n",
       "      <td>38</td>\n",
       "      <td>224</td>\n",
       "      <td>85</td>\n",
       "      <td>0</td>\n",
       "      <td>2233790</td>\n",
       "      <td>443</td>\n",
       "      <td>1</td>\n",
       "      <td>1</td>\n",
       "      <td>1</td>\n",
       "      <td>1</td>\n",
       "      <td>1</td>\n",
       "      <td>5</td>\n",
       "      <td>POLYGON ((-143.12500 60.62500, -142.62500 60.6...</td>\n",
       "    </tr>\n",
       "    <tr>\n",
       "      <th>2</th>\n",
       "      <td>21</td>\n",
       "      <td>1992-01-08 00:00:00</td>\n",
       "      <td>2.0</td>\n",
       "      <td>3.8</td>\n",
       "      <td>5254</td>\n",
       "      <td>24</td>\n",
       "      <td>232</td>\n",
       "      <td>81</td>\n",
       "      <td>360</td>\n",
       "      <td>3547765</td>\n",
       "      <td>569</td>\n",
       "      <td>1</td>\n",
       "      <td>1</td>\n",
       "      <td>1</td>\n",
       "      <td>1</td>\n",
       "      <td>1</td>\n",
       "      <td>5</td>\n",
       "      <td>POLYGON ((-145.62500 60.62500, -145.12500 60.6...</td>\n",
       "    </tr>\n",
       "    <tr>\n",
       "      <th>3</th>\n",
       "      <td>22</td>\n",
       "      <td>1992-01-08 06:00:00</td>\n",
       "      <td>2.0</td>\n",
       "      <td>3.7</td>\n",
       "      <td>4862</td>\n",
       "      <td>27</td>\n",
       "      <td>229</td>\n",
       "      <td>83</td>\n",
       "      <td>1</td>\n",
       "      <td>3182008</td>\n",
       "      <td>575</td>\n",
       "      <td>1</td>\n",
       "      <td>1</td>\n",
       "      <td>1</td>\n",
       "      <td>1</td>\n",
       "      <td>1</td>\n",
       "      <td>5</td>\n",
       "      <td>POLYGON ((-135.87500 58.62500, -134.62500 58.6...</td>\n",
       "    </tr>\n",
       "    <tr>\n",
       "      <th>4</th>\n",
       "      <td>24</td>\n",
       "      <td>1992-01-08 18:00:00</td>\n",
       "      <td>1.0</td>\n",
       "      <td>2.3</td>\n",
       "      <td>4606</td>\n",
       "      <td>12</td>\n",
       "      <td>249</td>\n",
       "      <td>77</td>\n",
       "      <td>1</td>\n",
       "      <td>3141921</td>\n",
       "      <td>530</td>\n",
       "      <td>1</td>\n",
       "      <td>1</td>\n",
       "      <td>1</td>\n",
       "      <td>1</td>\n",
       "      <td>1</td>\n",
       "      <td>5</td>\n",
       "      <td>POLYGON ((-146.37500 60.62500, -142.37500 60.6...</td>\n",
       "    </tr>\n",
       "  </tbody>\n",
       "</table>\n",
       "</div>"
      ],
      "text/plain": [
       "   index                 time  label  ratio  length  orient  poleward  \\\n",
       "0      3  1992-01-01 06:00:00    2.0    3.5    4854      37       221   \n",
       "1      4  1992-01-01 12:00:00    4.0    4.2    3773      38       224   \n",
       "2     21  1992-01-08 00:00:00    2.0    3.8    5254      24       232   \n",
       "3     22  1992-01-08 06:00:00    2.0    3.7    4862      27       229   \n",
       "4     24  1992-01-08 18:00:00    1.0    2.3    4606      12       249   \n",
       "\n",
       "   dir_coher  mean_dir  tot_str  rel_str  crit1  crit2  crit3  crit4  crit5  \\\n",
       "0         87       358  2230418      488      1      1      1      1      1   \n",
       "1         85         0  2233790      443      1      1      1      1      1   \n",
       "2         81       360  3547765      569      1      1      1      1      1   \n",
       "3         83         1  3182008      575      1      1      1      1      1   \n",
       "4         77         1  3141921      530      1      1      1      1      1   \n",
       "\n",
       "   crit_cnt                                           geometry  \n",
       "0         5  POLYGON ((-149.62500 61.12500, -149.37500 61.1...  \n",
       "1         5  POLYGON ((-143.12500 60.62500, -142.62500 60.6...  \n",
       "2         5  POLYGON ((-145.62500 60.62500, -145.12500 60.6...  \n",
       "3         5  POLYGON ((-135.87500 58.62500, -134.62500 58.6...  \n",
       "4         5  POLYGON ((-146.37500 60.62500, -142.37500 60.6...  "
      ]
     },
     "execution_count": 7,
     "metadata": {},
     "output_type": "execute_result"
    }
   ],
   "source": [
    "#check AR attributes:\n",
    "#all properties and criteria are preserved\n",
    "#AR IDs (index) are unique integers, could also be labeled using year / month / etc\n",
    "\n",
    "raw.head()"
   ]
  },
  {
   "cell_type": "code",
   "execution_count": 8,
   "metadata": {},
   "outputs": [
    {
     "data": {
      "text/plain": [
       "(25.0, 72.0)"
      ]
     },
     "execution_count": 8,
     "metadata": {},
     "output_type": "execute_result"
    },
    {
     "data": {
      "image/png": "[encoded data removed]",
      "text/plain": [
       "<Figure size 600x600 with 1 Axes>"
      ]
     },
     "metadata": {},
     "output_type": "display_data"
    }
   ],
   "source": [
    "#plot a random datetime from the raw Alaska ARs\n",
    "#these shapes represent landfalling ARs at individual 6hr timesteps...\n",
    "#run this cell multiple times to get an idea of what some of these look like\n",
    "\n",
    "random_date = random.choice(list(raw.index))\n",
    "fig, ax = plt.subplots(figsize=(6,6))\n",
    "#plt.suptitle)\n",
    "\n",
    "ak_d.boundary.plot(ax=ax, color='black')\n",
    "raw[raw.index==random_date].plot(ax=ax)\n",
    "\n",
    "plt.xlim([-180, -130])\n",
    "plt.ylim([25, 72])"
   ]
  },
  {
   "cell_type": "code",
   "execution_count": 9,
   "metadata": {},
   "outputs": [
    {
     "data": {
      "text/plain": [
       "1629"
      ]
     },
     "execution_count": 9,
     "metadata": {},
     "output_type": "execute_result"
    }
   ],
   "source": [
    "#count number of landfalling AR events when grouped by adjacent dates\n",
    "len(events)"
   ]
  },
  {
   "cell_type": "code",
   "execution_count": 10,
   "metadata": {},
   "outputs": [
    {
     "data": {
      "text/plain": [
       "54.3"
      ]
     },
     "execution_count": 10,
     "metadata": {},
     "output_type": "execute_result"
    }
   ],
   "source": [
    "#average landfalling AR events per year ...  is this figure reasonable?\n",
    "len(events)/30"
   ]
  },
  {
   "cell_type": "code",
   "execution_count": 11,
   "metadata": {},
   "outputs": [
    {
     "data": {
      "text/html": [
       "<div>\n",
       "<style scoped>\n",
       "    .dataframe tbody tr th:only-of-type {\n",
       "        vertical-align: middle;\n",
       "    }\n",
       "\n",
       "    .dataframe tbody tr th {\n",
       "        vertical-align: top;\n",
       "    }\n",
       "\n",
       "    .dataframe thead th {\n",
       "        text-align: right;\n",
       "    }\n",
       "</style>\n",
       "<table border=\"1\" class=\"dataframe\">\n",
       "  <thead>\n",
       "    <tr style=\"text-align: right;\">\n",
       "      <th></th>\n",
       "      <th>event_id</th>\n",
       "      <th>start</th>\n",
       "      <th>end</th>\n",
       "      <th>sumtot_str</th>\n",
       "      <th>sumrel_str</th>\n",
       "      <th>geometry</th>\n",
       "    </tr>\n",
       "  </thead>\n",
       "  <tbody>\n",
       "    <tr>\n",
       "      <th>0</th>\n",
       "      <td>0</td>\n",
       "      <td>1992-01-01 06:00:00</td>\n",
       "      <td>1992-01-01 12:00:00</td>\n",
       "      <td>4464208</td>\n",
       "      <td>931</td>\n",
       "      <td>MULTIPOLYGON (((-149.62500 61.12500, -149.3750...</td>\n",
       "    </tr>\n",
       "    <tr>\n",
       "      <th>1</th>\n",
       "      <td>1</td>\n",
       "      <td>1992-01-08 00:00:00</td>\n",
       "      <td>1992-01-11 12:00:00</td>\n",
       "      <td>13563651</td>\n",
       "      <td>3010</td>\n",
       "      <td>MULTIPOLYGON (((-145.62500 60.62500, -145.1250...</td>\n",
       "    </tr>\n",
       "    <tr>\n",
       "      <th>2</th>\n",
       "      <td>2</td>\n",
       "      <td>1992-01-13 12:00:00</td>\n",
       "      <td>1992-01-19 00:00:00</td>\n",
       "      <td>26891085</td>\n",
       "      <td>4532</td>\n",
       "      <td>MULTIPOLYGON (((-154.62500 60.62500, -154.1250...</td>\n",
       "    </tr>\n",
       "    <tr>\n",
       "      <th>3</th>\n",
       "      <td>3</td>\n",
       "      <td>1992-01-25 06:00:00</td>\n",
       "      <td>1992-01-26 12:00:00</td>\n",
       "      <td>3045136</td>\n",
       "      <td>1060</td>\n",
       "      <td>MULTIPOLYGON (((-156.12500 57.37500, -155.1250...</td>\n",
       "    </tr>\n",
       "    <tr>\n",
       "      <th>4</th>\n",
       "      <td>4</td>\n",
       "      <td>1992-01-29 18:00:00</td>\n",
       "      <td>1992-01-30 12:00:00</td>\n",
       "      <td>15236696</td>\n",
       "      <td>2018</td>\n",
       "      <td>MULTIPOLYGON (((-140.12500 56.62500, -137.8750...</td>\n",
       "    </tr>\n",
       "  </tbody>\n",
       "</table>\n",
       "</div>"
      ],
      "text/plain": [
       "   event_id                start                  end  sumtot_str  sumrel_str  \\\n",
       "0         0  1992-01-01 06:00:00  1992-01-01 12:00:00     4464208         931   \n",
       "1         1  1992-01-08 00:00:00  1992-01-11 12:00:00    13563651        3010   \n",
       "2         2  1992-01-13 12:00:00  1992-01-19 00:00:00    26891085        4532   \n",
       "3         3  1992-01-25 06:00:00  1992-01-26 12:00:00     3045136        1060   \n",
       "4         4  1992-01-29 18:00:00  1992-01-30 12:00:00    15236696        2018   \n",
       "\n",
       "                                            geometry  \n",
       "0  MULTIPOLYGON (((-149.62500 61.12500, -149.3750...  \n",
       "1  MULTIPOLYGON (((-145.62500 60.62500, -145.1250...  \n",
       "2  MULTIPOLYGON (((-154.62500 60.62500, -154.1250...  \n",
       "3  MULTIPOLYGON (((-156.12500 57.37500, -155.1250...  \n",
       "4  MULTIPOLYGON (((-140.12500 56.62500, -137.8750...  "
      ]
     },
     "execution_count": 11,
     "metadata": {},
     "output_type": "execute_result"
    }
   ],
   "source": [
    "#check attributes:\n",
    "#event IDs are unique integers, could also be labeled using year / month / etc\n",
    "#start and end columns can be parsed as datetime objects to get approximate duration\n",
    "#multipolygons can be dissolved into single polygon representing entire AR impact area\n",
    "#properties are disregarded during the grouping operation - could these values be aggregated somehow?\n",
    "\n",
    "events.head()"
   ]
  },
  {
   "cell_type": "code",
   "execution_count": 268,
   "metadata": {},
   "outputs": [],
   "source": [
    "ak_ars = raw\n",
    "ak_ars['dt'] = pd.to_datetime(raw['time'])\n",
    "\n",
    "#limited subset containing a known multi-AR event\n",
    "ak_ars = ak_ars[(ak_ars['dt'] > '2020-01-01') & (ak_ars['dt'] < '2020-03-01')].copy()\n",
    "\n",
    "#below is function for ar_detection.py\n",
    "ak_ars[\"diff\"] = ak_ars[\"dt\"].diff().dt.days.gt(1).cumsum()\n",
    "\n",
    "dfs = []\n",
    "\n",
    "for d in ak_ars[\"diff\"].unique():\n",
    "    sub = ak_ars[ak_ars[\"diff\"] == d].copy()\n",
    "\n",
    "    overlap_matrix = sub.geometry.apply(lambda x: sub.geometry.intersects(x)).values.astype(int)\n",
    "    n, labels = connected_components(overlap_matrix)\n",
    "    sub['group'] = labels\n",
    "    sub['start'] = sub['dt']\n",
    "    sub['end'] = sub['dt']\n",
    "    sub[\"sumtot_str\"] = sub[\"tot_str\"]\n",
    "    sub[\"sumrel_str\"] = sub[\"rel_str\"]\n",
    "    sub['ratio_m'] = sub['ratio']\n",
    "    sub['len_km_m'] = sub['length']\n",
    "    sub['orient_m'] = sub['orient']\n",
    "    sub['poleward_m'] = sub['poleward']\n",
    "    sub['dircoher_m'] = sub['dir_coher']\n",
    "    sub['mean_dir_m'] = sub['mean_dir']\n",
    "\n",
    "    res = sub.dissolve(by='group', aggfunc={\n",
    "         \"start\": \"min\",\n",
    "         \"end\": \"max\",\n",
    "         \"sumtot_str\": \"sum\",\n",
    "         \"sumrel_str\": \"sum\",\n",
    "         \"ratio_m\": \"mean\",\n",
    "         \"len_km_m\": \"mean\",\n",
    "         \"orient_m\": \"mean\",\n",
    "         \"poleward_m\": \"mean\",\n",
    "         \"dircoher_m\": \"mean\",\n",
    "         \"mean_dir_m\": \"mean\"}\n",
    "         )\n",
    "\n",
    "    for i in res.index:\n",
    "        #calculate duration from datetime columns\n",
    "        #after subtracting, add 6hrs as minimum event length.... this assures a single timestep event is not zero duration!\n",
    "        res.loc[i, 'dur_hrs'] = ((res['end'][i]-res['start'][i]).total_seconds()/3600) + 6\n",
    "\n",
    "    #calculate total and relative intensity\n",
    "    res['tintensity'] = res['sumtot_str']/res['dur_hrs']\n",
    "    res['rintensity'] = res['sumrel_str']/res['dur_hrs']\n",
    "\n",
    "    res = res.round({\n",
    "        'ratio_m': 0, \n",
    "        'len_km_m': 0, \n",
    "        'orient_m': 0, \n",
    "        'poleward_m':0, \n",
    "        'dircoher_m':0, \n",
    "        'mean_dir_m':0, \n",
    "        'dur_hrs':0,\n",
    "        'tintensity':0,\n",
    "        'rintensity':0\n",
    "        })\n",
    "\n",
    "    dfs.append(res)\n",
    "\n",
    "    events = pd.concat(dfs)\n",
    "    events = events.reset_index(drop=True).rename(columns={'index': 'event_id'})\n",
    "    #events.crs = ars.crs\n",
    "\n",
    "    # reset datetime columns as strings for output (datetime fields not supported in ESRI shp files)\n",
    "    events[\"start\"] = events[\"start\"].astype(str)\n",
    "    events[\"end\"] = events[\"end\"].astype(str)\n",
    "\n",
    "#     # export condensed event AR geodataframe to shp\n",
    "#     events.to_file(fp_events, index=True)"
   ]
  },
  {
   "cell_type": "code",
   "execution_count": 275,
   "metadata": {},
   "outputs": [
    {
     "data": {
      "text/plain": [
       "RangeIndex(start=0, stop=10, step=1)"
      ]
     },
     "execution_count": 275,
     "metadata": {},
     "output_type": "execute_result"
    }
   ],
   "source": [
    "events"
   ]
  },
  {
   "cell_type": "code",
   "execution_count": null,
   "metadata": {},
   "outputs": [],
   "source": []
  }
 ],
 "metadata": {
  "kernelspec": {
   "display_name": "cp_ar_avalanche",
   "language": "python",
   "name": "python3"
  },
  "language_info": {
   "codemirror_mode": {
    "name": "ipython",
    "version": 3
   },
   "file_extension": ".py",
   "mimetype": "text/x-python",
   "name": "python",
   "nbconvert_exporter": "python",
   "pygments_lexer": "ipython3",
   "version": "3.11.4"
  },
  "orig_nbformat": 4
 },
 "nbformat": 4,
 "nbformat_minor": 2
}
