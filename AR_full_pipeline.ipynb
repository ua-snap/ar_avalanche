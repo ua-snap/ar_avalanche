{
 "cells": [
  {
   "cell_type": "markdown",
   "metadata": {},
   "source": [
    "# Atmospheric Rivers: run detection pipeline and QC outputs\n",
    "\n",
    "This notebook will import the master processing function from the `ar_detection.py` module and run the entire processing workflow with minimal input. Before executing this notebook be sure you've set your `AR_DATA_DIR` environment variable, and have executed both the `download.py` and `compute_ivt.py` scripts."
   ]
  },
  {
   "cell_type": "code",
   "execution_count": 1,
   "metadata": {},
   "outputs": [],
   "source": [
    "from ar_detection import detect_all_ars\n",
    "from config import ard_fp, shp_fp, csv_fp, ak_shp, landfall_6hr_fp, landfall_events_fp"
   ]
  },
  {
   "cell_type": "code",
   "execution_count": 2,
   "metadata": {},
   "outputs": [
    {
     "name": "stderr",
     "output_type": "stream",
     "text": [
      "Getting length/width ratio for each AR target:: 100%|██████████| 43832/43832 [05:30<00:00, 132.47it/s]\n",
      "Getting axis length (km) for each AR target:: 100%|██████████| 43832/43832 [09:26<00:00, 77.44it/s] \n",
      "Getting overall orientation (azimuth) for each AR target:: 100%|██████████| 43832/43832 [07:33<00:00, 96.59it/s] \n",
      "Getting mean poleward strength for each AR target:: 100%|██████████| 43832/43832 [00:51<00:00, 847.63it/s] \n",
      "Getting directional coherence for each AR target:: 100%|██████████| 43832/43832 [02:33<00:00, 284.66it/s]\n",
      "Getting total IVT strength for each AR target:: 100%|██████████| 43832/43832 [00:20<00:00, 2121.36it/s]\n",
      "Getting relative IVT strength for each AR target:: 100%|██████████| 43832/43832 [00:21<00:00, 2029.09it/s]\n",
      "100%|██████████| 43832/43832 [00:02<00:00, 17892.16it/s]\n",
      "100%|██████████| 43832/43832 [00:00<00:00, 148181.34it/s]\n",
      "100%|██████████| 21234/21234 [08:53<00:00, 39.83it/s] \n"
     ]
    }
   ],
   "source": [
    "detect_all_ars(ard_fp, 5, shp_fp, csv_fp, ak_shp, landfall_6hr_fp, landfall_events_fp)"
   ]
  },
  {
   "cell_type": "code",
   "execution_count": 3,
   "metadata": {},
   "outputs": [],
   "source": [
    "import geopandas as gpd\n",
    "import matplotlib.pyplot as plt\n",
    "import random"
   ]
  },
  {
   "cell_type": "code",
   "execution_count": 4,
   "metadata": {},
   "outputs": [],
   "source": [
    "#import shps to gdfs\n",
    "raw = gpd.read_file(landfall_6hr_fp)\n",
    "events = gpd.read_file(landfall_events_fp)\n",
    "\n",
    "#import ak shp\n",
    "ak = gpd.read_file(ak_shp)\n",
    "# reproject AK coastline to match AR CRS, and dissolve into one multipolygon\n",
    "ak_ = ak.to_crs(raw.crs)\n",
    "ak_d = ak_.dissolve()"
   ]
  },
  {
   "cell_type": "code",
   "execution_count": 5,
   "metadata": {},
   "outputs": [
    {
     "data": {
      "text/plain": [
       "10399"
      ]
     },
     "execution_count": 5,
     "metadata": {},
     "output_type": "execute_result"
    }
   ],
   "source": [
    "#count number of landfalling ARs at individual 6hr timesteps\n",
    "len(raw)"
   ]
  },
  {
   "cell_type": "code",
   "execution_count": 6,
   "metadata": {},
   "outputs": [
    {
     "data": {
      "text/html": [
       "<div>\n",
       "<style scoped>\n",
       "    .dataframe tbody tr th:only-of-type {\n",
       "        vertical-align: middle;\n",
       "    }\n",
       "\n",
       "    .dataframe tbody tr th {\n",
       "        vertical-align: top;\n",
       "    }\n",
       "\n",
       "    .dataframe thead th {\n",
       "        text-align: right;\n",
       "    }\n",
       "</style>\n",
       "<table border=\"1\" class=\"dataframe\">\n",
       "  <thead>\n",
       "    <tr style=\"text-align: right;\">\n",
       "      <th></th>\n",
       "      <th>index</th>\n",
       "      <th>time</th>\n",
       "      <th>label</th>\n",
       "      <th>ratio</th>\n",
       "      <th>length</th>\n",
       "      <th>orient</th>\n",
       "      <th>poleward</th>\n",
       "      <th>dir_coher</th>\n",
       "      <th>mean_dir</th>\n",
       "      <th>tot_str</th>\n",
       "      <th>rel_str</th>\n",
       "      <th>crit1</th>\n",
       "      <th>crit2</th>\n",
       "      <th>crit3</th>\n",
       "      <th>crit4</th>\n",
       "      <th>crit5</th>\n",
       "      <th>crit_cnt</th>\n",
       "      <th>geometry</th>\n",
       "    </tr>\n",
       "  </thead>\n",
       "  <tbody>\n",
       "    <tr>\n",
       "      <th>0</th>\n",
       "      <td>3</td>\n",
       "      <td>1992-01-01 06:00:00</td>\n",
       "      <td>2.0</td>\n",
       "      <td>3.5</td>\n",
       "      <td>4854</td>\n",
       "      <td>33</td>\n",
       "      <td>221</td>\n",
       "      <td>87</td>\n",
       "      <td>358</td>\n",
       "      <td>2230418</td>\n",
       "      <td>488</td>\n",
       "      <td>1</td>\n",
       "      <td>1</td>\n",
       "      <td>1</td>\n",
       "      <td>1</td>\n",
       "      <td>1</td>\n",
       "      <td>5</td>\n",
       "      <td>POLYGON ((-149.62500 61.12500, -149.37500 61.1...</td>\n",
       "    </tr>\n",
       "    <tr>\n",
       "      <th>1</th>\n",
       "      <td>4</td>\n",
       "      <td>1992-01-01 12:00:00</td>\n",
       "      <td>4.0</td>\n",
       "      <td>4.2</td>\n",
       "      <td>3773</td>\n",
       "      <td>35</td>\n",
       "      <td>224</td>\n",
       "      <td>85</td>\n",
       "      <td>0</td>\n",
       "      <td>2233790</td>\n",
       "      <td>443</td>\n",
       "      <td>1</td>\n",
       "      <td>1</td>\n",
       "      <td>1</td>\n",
       "      <td>1</td>\n",
       "      <td>1</td>\n",
       "      <td>5</td>\n",
       "      <td>POLYGON ((-143.12500 60.62500, -142.62500 60.6...</td>\n",
       "    </tr>\n",
       "    <tr>\n",
       "      <th>2</th>\n",
       "      <td>21</td>\n",
       "      <td>1992-01-08 00:00:00</td>\n",
       "      <td>2.0</td>\n",
       "      <td>3.8</td>\n",
       "      <td>5254</td>\n",
       "      <td>25</td>\n",
       "      <td>232</td>\n",
       "      <td>81</td>\n",
       "      <td>360</td>\n",
       "      <td>3547765</td>\n",
       "      <td>569</td>\n",
       "      <td>1</td>\n",
       "      <td>1</td>\n",
       "      <td>1</td>\n",
       "      <td>1</td>\n",
       "      <td>1</td>\n",
       "      <td>5</td>\n",
       "      <td>POLYGON ((-145.62500 60.62500, -145.12500 60.6...</td>\n",
       "    </tr>\n",
       "    <tr>\n",
       "      <th>3</th>\n",
       "      <td>22</td>\n",
       "      <td>1992-01-08 06:00:00</td>\n",
       "      <td>2.0</td>\n",
       "      <td>3.7</td>\n",
       "      <td>4862</td>\n",
       "      <td>28</td>\n",
       "      <td>229</td>\n",
       "      <td>83</td>\n",
       "      <td>1</td>\n",
       "      <td>3182008</td>\n",
       "      <td>575</td>\n",
       "      <td>1</td>\n",
       "      <td>1</td>\n",
       "      <td>1</td>\n",
       "      <td>1</td>\n",
       "      <td>1</td>\n",
       "      <td>5</td>\n",
       "      <td>POLYGON ((-135.87500 58.62500, -134.62500 58.6...</td>\n",
       "    </tr>\n",
       "    <tr>\n",
       "      <th>4</th>\n",
       "      <td>24</td>\n",
       "      <td>1992-01-08 18:00:00</td>\n",
       "      <td>1.0</td>\n",
       "      <td>2.3</td>\n",
       "      <td>4606</td>\n",
       "      <td>22</td>\n",
       "      <td>249</td>\n",
       "      <td>77</td>\n",
       "      <td>1</td>\n",
       "      <td>3141921</td>\n",
       "      <td>530</td>\n",
       "      <td>1</td>\n",
       "      <td>1</td>\n",
       "      <td>1</td>\n",
       "      <td>1</td>\n",
       "      <td>1</td>\n",
       "      <td>5</td>\n",
       "      <td>POLYGON ((-146.37500 60.62500, -142.37500 60.6...</td>\n",
       "    </tr>\n",
       "  </tbody>\n",
       "</table>\n",
       "</div>"
      ],
      "text/plain": [
       "   index                 time  label  ratio  length  orient  poleward  \\\n",
       "0      3  1992-01-01 06:00:00    2.0    3.5    4854      33       221   \n",
       "1      4  1992-01-01 12:00:00    4.0    4.2    3773      35       224   \n",
       "2     21  1992-01-08 00:00:00    2.0    3.8    5254      25       232   \n",
       "3     22  1992-01-08 06:00:00    2.0    3.7    4862      28       229   \n",
       "4     24  1992-01-08 18:00:00    1.0    2.3    4606      22       249   \n",
       "\n",
       "   dir_coher  mean_dir  tot_str  rel_str  crit1  crit2  crit3  crit4  crit5  \\\n",
       "0         87       358  2230418      488      1      1      1      1      1   \n",
       "1         85         0  2233790      443      1      1      1      1      1   \n",
       "2         81       360  3547765      569      1      1      1      1      1   \n",
       "3         83         1  3182008      575      1      1      1      1      1   \n",
       "4         77         1  3141921      530      1      1      1      1      1   \n",
       "\n",
       "   crit_cnt                                           geometry  \n",
       "0         5  POLYGON ((-149.62500 61.12500, -149.37500 61.1...  \n",
       "1         5  POLYGON ((-143.12500 60.62500, -142.62500 60.6...  \n",
       "2         5  POLYGON ((-145.62500 60.62500, -145.12500 60.6...  \n",
       "3         5  POLYGON ((-135.87500 58.62500, -134.62500 58.6...  \n",
       "4         5  POLYGON ((-146.37500 60.62500, -142.37500 60.6...  "
      ]
     },
     "execution_count": 6,
     "metadata": {},
     "output_type": "execute_result"
    }
   ],
   "source": [
    "#check AR attributes:\n",
    "#all properties and criteria are preserved\n",
    "#AR IDs (index) are unique integers, could also be labeled using year / month / etc\n",
    "\n",
    "raw.head()"
   ]
  },
  {
   "cell_type": "code",
   "execution_count": 7,
   "metadata": {},
   "outputs": [
    {
     "data": {
      "text/plain": [
       "(25.0, 72.0)"
      ]
     },
     "execution_count": 7,
     "metadata": {},
     "output_type": "execute_result"
    },
    {
     "data": {
      "image/png": "[encoded data removed]",
      "text/plain": [
       "<Figure size 600x600 with 1 Axes>"
      ]
     },
     "metadata": {},
     "output_type": "display_data"
    }
   ],
   "source": [
    "#plot a random datetime from the raw Alaska ARs\n",
    "#these shapes represent landfalling ARs at individual 6hr timesteps...\n",
    "#run this cell multiple times to get an idea of what some of these look like\n",
    "\n",
    "random_date = random.choice(list(raw.index))\n",
    "fig, ax = plt.subplots(figsize=(6,6))\n",
    "#plt.suptitle)\n",
    "\n",
    "ak_d.boundary.plot(ax=ax, color='black')\n",
    "raw[raw.index==random_date].plot(ax=ax)\n",
    "\n",
    "plt.xlim([-180, -130])\n",
    "plt.ylim([25, 72])"
   ]
  },
  {
   "cell_type": "code",
   "execution_count": 8,
   "metadata": {},
   "outputs": [
    {
     "data": {
      "text/plain": [
       "1670"
      ]
     },
     "execution_count": 8,
     "metadata": {},
     "output_type": "execute_result"
    }
   ],
   "source": [
    "#count number of landfalling AR events when grouped by adjacent dates\n",
    "len(events)"
   ]
  },
  {
   "cell_type": "code",
   "execution_count": 9,
   "metadata": {},
   "outputs": [
    {
     "data": {
      "text/plain": [
       "55.666666666666664"
      ]
     },
     "execution_count": 9,
     "metadata": {},
     "output_type": "execute_result"
    }
   ],
   "source": [
    "#average landfalling AR events per year ...  is this even reasonable?\n",
    "len(events)/30"
   ]
  },
  {
   "cell_type": "code",
   "execution_count": 10,
   "metadata": {},
   "outputs": [
    {
     "data": {
      "text/html": [
       "<div>\n",
       "<style scoped>\n",
       "    .dataframe tbody tr th:only-of-type {\n",
       "        vertical-align: middle;\n",
       "    }\n",
       "\n",
       "    .dataframe tbody tr th {\n",
       "        vertical-align: top;\n",
       "    }\n",
       "\n",
       "    .dataframe thead th {\n",
       "        text-align: right;\n",
       "    }\n",
       "</style>\n",
       "<table border=\"1\" class=\"dataframe\">\n",
       "  <thead>\n",
       "    <tr style=\"text-align: right;\">\n",
       "      <th></th>\n",
       "      <th>event_id</th>\n",
       "      <th>start</th>\n",
       "      <th>end</th>\n",
       "      <th>sumtot_str</th>\n",
       "      <th>sumrel_str</th>\n",
       "      <th>geometry</th>\n",
       "    </tr>\n",
       "  </thead>\n",
       "  <tbody>\n",
       "    <tr>\n",
       "      <th>0</th>\n",
       "      <td>0</td>\n",
       "      <td>1992-01-01 06:00:00</td>\n",
       "      <td>1992-01-01 12:00:00</td>\n",
       "      <td>4464208</td>\n",
       "      <td>931</td>\n",
       "      <td>MULTIPOLYGON (((-149.62500 61.12500, -149.3750...</td>\n",
       "    </tr>\n",
       "    <tr>\n",
       "      <th>1</th>\n",
       "      <td>1</td>\n",
       "      <td>1992-01-08 00:00:00</td>\n",
       "      <td>1992-01-19 00:00:00</td>\n",
       "      <td>46632798</td>\n",
       "      <td>8962</td>\n",
       "      <td>MULTIPOLYGON (((-145.62500 60.62500, -145.1250...</td>\n",
       "    </tr>\n",
       "    <tr>\n",
       "      <th>2</th>\n",
       "      <td>2</td>\n",
       "      <td>1992-01-21 12:00:00</td>\n",
       "      <td>1992-01-21 12:00:00</td>\n",
       "      <td>461938</td>\n",
       "      <td>349</td>\n",
       "      <td>POLYGON ((-167.12500 53.87500, -165.12500 53.8...</td>\n",
       "    </tr>\n",
       "    <tr>\n",
       "      <th>3</th>\n",
       "      <td>3</td>\n",
       "      <td>1992-01-25 06:00:00</td>\n",
       "      <td>1992-01-26 12:00:00</td>\n",
       "      <td>3938552</td>\n",
       "      <td>1325</td>\n",
       "      <td>MULTIPOLYGON (((-156.12500 57.37500, -155.1250...</td>\n",
       "    </tr>\n",
       "    <tr>\n",
       "      <th>4</th>\n",
       "      <td>4</td>\n",
       "      <td>1992-01-29 18:00:00</td>\n",
       "      <td>1992-01-30 12:00:00</td>\n",
       "      <td>15236696</td>\n",
       "      <td>2018</td>\n",
       "      <td>MULTIPOLYGON (((-140.12500 56.62500, -137.8750...</td>\n",
       "    </tr>\n",
       "  </tbody>\n",
       "</table>\n",
       "</div>"
      ],
      "text/plain": [
       "   event_id                start                  end  sumtot_str  sumrel_str  \\\n",
       "0         0  1992-01-01 06:00:00  1992-01-01 12:00:00     4464208         931   \n",
       "1         1  1992-01-08 00:00:00  1992-01-19 00:00:00    46632798        8962   \n",
       "2         2  1992-01-21 12:00:00  1992-01-21 12:00:00      461938         349   \n",
       "3         3  1992-01-25 06:00:00  1992-01-26 12:00:00     3938552        1325   \n",
       "4         4  1992-01-29 18:00:00  1992-01-30 12:00:00    15236696        2018   \n",
       "\n",
       "                                            geometry  \n",
       "0  MULTIPOLYGON (((-149.62500 61.12500, -149.3750...  \n",
       "1  MULTIPOLYGON (((-145.62500 60.62500, -145.1250...  \n",
       "2  POLYGON ((-167.12500 53.87500, -165.12500 53.8...  \n",
       "3  MULTIPOLYGON (((-156.12500 57.37500, -155.1250...  \n",
       "4  MULTIPOLYGON (((-140.12500 56.62500, -137.8750...  "
      ]
     },
     "execution_count": 10,
     "metadata": {},
     "output_type": "execute_result"
    }
   ],
   "source": [
    "#check attributes:\n",
    "#event IDs are unique integers, could also be labeled using year / month / etc\n",
    "#start and end columns can be parsed as datetime objects to get approximate duration\n",
    "#multipolygons can be dissolved into single polygon representing entire AR impact area\n",
    "#properties are disregarded during the grouping operation - could these values be aggregated somehow?\n",
    "\n",
    "events.head()"
   ]
  },
  {
   "cell_type": "code",
   "execution_count": 11,
   "metadata": {},
   "outputs": [
    {
     "data": {
      "text/plain": [
       "(25.0, 72.0)"
      ]
     },
     "execution_count": 11,
     "metadata": {},
     "output_type": "execute_result"
    },
    {
     "data": {
      "image/png": "[encoded data removed]",
      "text/plain": [
       "<Figure size 600x600 with 1 Axes>"
      ]
     },
     "metadata": {},
     "output_type": "display_data"
    }
   ],
   "source": [
    "#plot a random event from the combined Alaska ARs\n",
    "#these shapes represent landfalling ARs at grouped by adjacent dates\n",
    "#the overlapping multipolygons show the varying extent of the AR event and give a general \"area of impact\"\n",
    "#run this cell multiple times to get an idea of what some of these look like\n",
    "\n",
    "random_event = random.choice(list(events.index.values))\n",
    "fig, ax = plt.subplots(figsize=(6,6))\n",
    "plt.suptitle(random_event)\n",
    "\n",
    "ak_d.boundary.plot(ax=ax, color='black')\n",
    "events[events.index==random_event].boundary.plot(ax=ax)\n",
    "\n",
    "plt.xlim([-180, -130])\n",
    "plt.ylim([25, 72])"
   ]
  },
  {
   "cell_type": "code",
   "execution_count": null,
   "metadata": {},
   "outputs": [],
   "source": []
  }
 ],
 "metadata": {
  "kernelspec": {
   "display_name": "cp_ar_avalanche",
   "language": "python",
   "name": "python3"
  },
  "language_info": {
   "codemirror_mode": {
    "name": "ipython",
    "version": 3
   },
   "file_extension": ".py",
   "mimetype": "text/x-python",
   "name": "python",
   "nbconvert_exporter": "python",
   "pygments_lexer": "ipython3",
   "version": "3.11.4"
  },
  "orig_nbformat": 4
 },
 "nbformat": 4,
 "nbformat_minor": 2
}
